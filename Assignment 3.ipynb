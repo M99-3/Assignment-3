{
 "cells": [
  {
   "cell_type": "code",
   "execution_count": 1,
   "metadata": {},
   "outputs": [
    {
     "name": "stdout",
     "output_type": "stream",
     "text": [
      "Enter a new number: 5\n",
      "Enter a new number: 3\n",
      "Enter a new number: 7\n",
      "Enter a new number: -6\n",
      "Enter a new number: 99\n",
      "Enter a new number: done\n"
     ]
    }
   ],
   "source": [
    "number=[]\n",
    "z=input(\"Enter a new number: \")\n",
    "while z!=\"done\":\n",
    "    try:\n",
    "        z=int(z)\n",
    "        number.append(z)   \n",
    "        z=input(\"Enter a new number: \")\n",
    "    except:\n",
    "        print(\"Invalid input\")"
   ]
  },
  {
   "cell_type": "code",
   "execution_count": 2,
   "metadata": {},
   "outputs": [
    {
     "name": "stdout",
     "output_type": "stream",
     "text": [
      "Maximum:  99\n",
      "Minimum:  -6\n"
     ]
    }
   ],
   "source": [
    "print(\"Maximum: \",max(number))\n",
    "print(\"Minimum: \",min(number))"
   ]
  },
  {
   "cell_type": "code",
   "execution_count": null,
   "metadata": {},
   "outputs": [],
   "source": []
  }
 ],
 "metadata": {
  "kernelspec": {
   "display_name": "Python 3",
   "language": "python",
   "name": "python3"
  },
  "language_info": {
   "codemirror_mode": {
    "name": "ipython",
    "version": 3
   },
   "file_extension": ".py",
   "mimetype": "text/x-python",
   "name": "python",
   "nbconvert_exporter": "python",
   "pygments_lexer": "ipython3",
   "version": "3.7.3"
  }
 },
 "nbformat": 4,
 "nbformat_minor": 2
}
